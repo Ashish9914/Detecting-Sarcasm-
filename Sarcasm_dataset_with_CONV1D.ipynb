{
  "nbformat": 4,
  "nbformat_minor": 0,
  "metadata": {
    "colab": {
      "name": "Sarcasm dataset with CONV1D.ipynb",
      "provenance": [],
      "collapsed_sections": []
    },
    "kernelspec": {
      "name": "python3",
      "display_name": "Python 3"
    },
    "accelerator": "GPU"
  },
  "cells": [
    {
      "cell_type": "code",
      "metadata": {
        "id": "G4gxSxgOwB-j",
        "colab_type": "code",
        "outputId": "42c391e2-b42a-44df-8ded-20e72f494b2d",
        "colab": {
          "base_uri": "https://localhost:8080/",
          "height": 1000
        }
      },
      "source": [
        "import json\n",
        "import tensorflow as tf\n",
        "\n",
        "from tensorflow.keras.preprocessing.text import Tokenizer\n",
        "from tensorflow.keras.preprocessing.sequence import pad_sequences\n",
        "\n",
        "!wget --no-check-certificate \\\n",
        "    https://storage.googleapis.com/laurencemoroney-blog.appspot.com/sarcasm.json \\\n",
        "    -O /tmp/sarcasm.json\n",
        "\n",
        "vocab_size = 1000\n",
        "embedding_dim = 16\n",
        "max_length = 120\n",
        "trunc_type='post'\n",
        "padding_type='post'\n",
        "oov_tok = \"<OOV>\"\n",
        "training_size = 20000\n",
        "\n",
        "\n",
        "with open(\"/tmp/sarcasm.json\", 'r') as f:\n",
        "    datastore = json.load(f)\n",
        "\n",
        "sentences = []\n",
        "labels = []\n",
        "urls = []\n",
        "for item in datastore:\n",
        "    sentences.append(item['headline'])\n",
        "    labels.append(item['is_sarcastic'])\n",
        "\n",
        "training_sentences = sentences[0:training_size]\n",
        "testing_sentences = sentences[training_size:]\n",
        "training_labels = labels[0:training_size]\n",
        "testing_labels = labels[training_size:]\n",
        "\n",
        "tokenizer = Tokenizer(num_words=vocab_size, oov_token=oov_tok)\n",
        "tokenizer.fit_on_texts(training_sentences)\n",
        "\n",
        "word_index = tokenizer.word_index\n",
        "\n",
        "training_sequences = tokenizer.texts_to_sequences(training_sentences)\n",
        "training_padded = pad_sequences(training_sequences, maxlen=max_length, padding=padding_type, truncating=trunc_type)\n",
        "\n",
        "testing_sequences = tokenizer.texts_to_sequences(testing_sentences)\n",
        "testing_padded = pad_sequences(testing_sequences, maxlen=max_length, padding=padding_type, truncating=trunc_type)\n",
        "\n",
        "model = tf.keras.Sequential([\n",
        "    tf.keras.layers.Embedding(vocab_size, embedding_dim, input_length=max_length),\n",
        "    tf.keras.layers.Conv1D(128, 5, activation='relu'),\n",
        "    tf.keras.layers.GlobalMaxPooling1D(),\n",
        "    tf.keras.layers.Dense(24, activation='relu'),\n",
        "    tf.keras.layers.Dense(1, activation='sigmoid')\n",
        "])\n",
        "model.compile(loss='binary_crossentropy',optimizer='adam',metrics=['accuracy'])\n",
        "model.summary()\n",
        "\n",
        "num_epochs = 50\n",
        "history = model.fit(training_padded, training_labels, epochs=num_epochs, validation_data=(testing_padded, testing_labels), verbose=1)\n"
      ],
      "execution_count": 0,
      "outputs": [
        {
          "output_type": "display_data",
          "data": {
            "text/html": [
              "<p style=\"color: red;\">\n",
              "The default version of TensorFlow in Colab will soon switch to TensorFlow 2.x.<br>\n",
              "We recommend you <a href=\"https://www.tensorflow.org/guide/migrate\" target=\"_blank\">upgrade</a> now \n",
              "or ensure your notebook will continue to use TensorFlow 1.x via the <code>%tensorflow_version 1.x</code> magic:\n",
              "<a href=\"https://colab.research.google.com/notebooks/tensorflow_version.ipynb\" target=\"_blank\">more info</a>.</p>\n"
            ],
            "text/plain": [
              "<IPython.core.display.HTML object>"
            ]
          },
          "metadata": {
            "tags": []
          }
        },
        {
          "output_type": "stream",
          "text": [
            "--2019-10-26 07:35:11--  https://storage.googleapis.com/laurencemoroney-blog.appspot.com/sarcasm.json\n",
            "Resolving storage.googleapis.com (storage.googleapis.com)... 74.125.71.128, 2a00:1450:400c:c09::80\n",
            "Connecting to storage.googleapis.com (storage.googleapis.com)|74.125.71.128|:443... connected.\n",
            "HTTP request sent, awaiting response... 200 OK\n",
            "Length: 5643545 (5.4M) [application/json]\n",
            "Saving to: ‘/tmp/sarcasm.json’\n",
            "\n",
            "/tmp/sarcasm.json   100%[===================>]   5.38M  23.7MB/s    in 0.2s    \n",
            "\n",
            "2019-10-26 07:35:17 (23.7 MB/s) - ‘/tmp/sarcasm.json’ saved [5643545/5643545]\n",
            "\n",
            "WARNING:tensorflow:From /usr/local/lib/python3.6/dist-packages/tensorflow_core/python/keras/initializers.py:119: calling RandomUniform.__init__ (from tensorflow.python.ops.init_ops) with dtype is deprecated and will be removed in a future version.\n",
            "Instructions for updating:\n",
            "Call initializer instance with the dtype argument instead of passing it to the constructor\n",
            "WARNING:tensorflow:From /usr/local/lib/python3.6/dist-packages/tensorflow_core/python/ops/resource_variable_ops.py:1630: calling BaseResourceVariable.__init__ (from tensorflow.python.ops.resource_variable_ops) with constraint is deprecated and will be removed in a future version.\n",
            "Instructions for updating:\n",
            "If using Keras pass *_constraint arguments to layers.\n",
            "WARNING:tensorflow:From /usr/local/lib/python3.6/dist-packages/tensorflow_core/python/ops/nn_impl.py:183: where (from tensorflow.python.ops.array_ops) is deprecated and will be removed in a future version.\n",
            "Instructions for updating:\n",
            "Use tf.where in 2.0, which has the same broadcast rule as np.where\n",
            "Model: \"sequential\"\n",
            "_________________________________________________________________\n",
            "Layer (type)                 Output Shape              Param #   \n",
            "=================================================================\n",
            "embedding (Embedding)        (None, 120, 16)           16000     \n",
            "_________________________________________________________________\n",
            "conv1d (Conv1D)              (None, 116, 128)          10368     \n",
            "_________________________________________________________________\n",
            "global_max_pooling1d (Global (None, 128)               0         \n",
            "_________________________________________________________________\n",
            "dense (Dense)                (None, 24)                3096      \n",
            "_________________________________________________________________\n",
            "dense_1 (Dense)              (None, 1)                 25        \n",
            "=================================================================\n",
            "Total params: 29,489\n",
            "Trainable params: 29,489\n",
            "Non-trainable params: 0\n",
            "_________________________________________________________________\n",
            "Train on 20000 samples, validate on 6709 samples\n",
            "Epoch 1/50\n",
            "20000/20000 [==============================] - 7s 349us/sample - loss: 0.4738 - acc: 0.7593 - val_loss: 0.4099 - val_acc: 0.8123\n",
            "Epoch 2/50\n",
            "20000/20000 [==============================] - 4s 192us/sample - loss: 0.3653 - acc: 0.8346 - val_loss: 0.3901 - val_acc: 0.8204\n",
            "Epoch 3/50\n",
            "20000/20000 [==============================] - 4s 191us/sample - loss: 0.3282 - acc: 0.8561 - val_loss: 0.3879 - val_acc: 0.8238\n",
            "Epoch 4/50\n",
            "20000/20000 [==============================] - 4s 190us/sample - loss: 0.2965 - acc: 0.8699 - val_loss: 0.3941 - val_acc: 0.8244\n",
            "Epoch 5/50\n",
            "20000/20000 [==============================] - 4s 192us/sample - loss: 0.2664 - acc: 0.8842 - val_loss: 0.4217 - val_acc: 0.8183\n",
            "Epoch 6/50\n",
            "20000/20000 [==============================] - 4s 191us/sample - loss: 0.2368 - acc: 0.9015 - val_loss: 0.4322 - val_acc: 0.8195\n",
            "Epoch 7/50\n",
            "20000/20000 [==============================] - 4s 190us/sample - loss: 0.2066 - acc: 0.9160 - val_loss: 0.4825 - val_acc: 0.8109\n",
            "Epoch 8/50\n",
            "20000/20000 [==============================] - 4s 192us/sample - loss: 0.1744 - acc: 0.9327 - val_loss: 0.5142 - val_acc: 0.8135\n",
            "Epoch 9/50\n",
            "20000/20000 [==============================] - 4s 187us/sample - loss: 0.1456 - acc: 0.9432 - val_loss: 0.5571 - val_acc: 0.8059\n",
            "Epoch 10/50\n",
            "20000/20000 [==============================] - 4s 190us/sample - loss: 0.1198 - acc: 0.9574 - val_loss: 0.6416 - val_acc: 0.8080\n",
            "Epoch 11/50\n",
            "20000/20000 [==============================] - 4s 191us/sample - loss: 0.1001 - acc: 0.9653 - val_loss: 0.7143 - val_acc: 0.8040\n",
            "Epoch 12/50\n",
            "20000/20000 [==============================] - 4s 189us/sample - loss: 0.0820 - acc: 0.9710 - val_loss: 0.7955 - val_acc: 0.7967\n",
            "Epoch 13/50\n",
            "20000/20000 [==============================] - 4s 189us/sample - loss: 0.0686 - acc: 0.9765 - val_loss: 0.8773 - val_acc: 0.7958\n",
            "Epoch 14/50\n",
            "20000/20000 [==============================] - 4s 191us/sample - loss: 0.0620 - acc: 0.9775 - val_loss: 0.9504 - val_acc: 0.7985\n",
            "Epoch 15/50\n",
            "20000/20000 [==============================] - 4s 189us/sample - loss: 0.0509 - acc: 0.9819 - val_loss: 1.0565 - val_acc: 0.7971\n",
            "Epoch 16/50\n",
            "20000/20000 [==============================] - 4s 191us/sample - loss: 0.0445 - acc: 0.9839 - val_loss: 1.1152 - val_acc: 0.7861\n",
            "Epoch 17/50\n",
            "20000/20000 [==============================] - 4s 192us/sample - loss: 0.0411 - acc: 0.9847 - val_loss: 1.1810 - val_acc: 0.7930\n",
            "Epoch 18/50\n",
            "20000/20000 [==============================] - 4s 190us/sample - loss: 0.0401 - acc: 0.9851 - val_loss: 1.2452 - val_acc: 0.7931\n",
            "Epoch 19/50\n",
            "20000/20000 [==============================] - 4s 196us/sample - loss: 0.0395 - acc: 0.9848 - val_loss: 1.3107 - val_acc: 0.7921\n",
            "Epoch 20/50\n",
            "20000/20000 [==============================] - 4s 192us/sample - loss: 0.0379 - acc: 0.9852 - val_loss: 1.4148 - val_acc: 0.7895\n",
            "Epoch 21/50\n",
            "20000/20000 [==============================] - 4s 190us/sample - loss: 0.0356 - acc: 0.9859 - val_loss: 1.5254 - val_acc: 0.7886\n",
            "Epoch 22/50\n",
            "20000/20000 [==============================] - 4s 187us/sample - loss: 0.0315 - acc: 0.9869 - val_loss: 1.5042 - val_acc: 0.7876\n",
            "Epoch 23/50\n",
            "20000/20000 [==============================] - 4s 188us/sample - loss: 0.0294 - acc: 0.9889 - val_loss: 1.5371 - val_acc: 0.7901\n",
            "Epoch 24/50\n",
            "20000/20000 [==============================] - 4s 191us/sample - loss: 0.0284 - acc: 0.9877 - val_loss: 1.6300 - val_acc: 0.7952\n",
            "Epoch 25/50\n",
            "20000/20000 [==============================] - 4s 191us/sample - loss: 0.0267 - acc: 0.9887 - val_loss: 1.6748 - val_acc: 0.7892\n",
            "Epoch 26/50\n",
            "20000/20000 [==============================] - 4s 191us/sample - loss: 0.0271 - acc: 0.9889 - val_loss: 1.7515 - val_acc: 0.7861\n",
            "Epoch 27/50\n",
            "20000/20000 [==============================] - 4s 194us/sample - loss: 0.0298 - acc: 0.9873 - val_loss: 1.7549 - val_acc: 0.7866\n",
            "Epoch 28/50\n",
            "20000/20000 [==============================] - 4s 199us/sample - loss: 0.0314 - acc: 0.9868 - val_loss: 1.8516 - val_acc: 0.7837\n",
            "Epoch 29/50\n",
            "20000/20000 [==============================] - 4s 193us/sample - loss: 0.0276 - acc: 0.9886 - val_loss: 1.9522 - val_acc: 0.7818\n",
            "Epoch 30/50\n",
            "20000/20000 [==============================] - 4s 191us/sample - loss: 0.0239 - acc: 0.9895 - val_loss: 1.9507 - val_acc: 0.7869\n",
            "Epoch 31/50\n",
            "20000/20000 [==============================] - 4s 188us/sample - loss: 0.0221 - acc: 0.9896 - val_loss: 2.0167 - val_acc: 0.7815\n",
            "Epoch 32/50\n",
            "20000/20000 [==============================] - 4s 187us/sample - loss: 0.0211 - acc: 0.9906 - val_loss: 2.0833 - val_acc: 0.7879\n",
            "Epoch 33/50\n",
            "20000/20000 [==============================] - 4s 189us/sample - loss: 0.0240 - acc: 0.9894 - val_loss: 2.0022 - val_acc: 0.7851\n",
            "Epoch 34/50\n",
            "20000/20000 [==============================] - 4s 189us/sample - loss: 0.0230 - acc: 0.9900 - val_loss: 2.1101 - val_acc: 0.7815\n",
            "Epoch 35/50\n",
            "20000/20000 [==============================] - 4s 191us/sample - loss: 0.0245 - acc: 0.9893 - val_loss: 2.1614 - val_acc: 0.7904\n",
            "Epoch 36/50\n",
            "20000/20000 [==============================] - 4s 188us/sample - loss: 0.0234 - acc: 0.9902 - val_loss: 2.1463 - val_acc: 0.7877\n",
            "Epoch 37/50\n",
            "20000/20000 [==============================] - 4s 188us/sample - loss: 0.0238 - acc: 0.9897 - val_loss: 2.2373 - val_acc: 0.7860\n",
            "Epoch 38/50\n",
            "20000/20000 [==============================] - 4s 192us/sample - loss: 0.0291 - acc: 0.9873 - val_loss: 2.0314 - val_acc: 0.7897\n",
            "Epoch 39/50\n",
            "20000/20000 [==============================] - 4s 192us/sample - loss: 0.0201 - acc: 0.9911 - val_loss: 2.1855 - val_acc: 0.7883\n",
            "Epoch 40/50\n",
            "20000/20000 [==============================] - 4s 189us/sample - loss: 0.0171 - acc: 0.9924 - val_loss: 2.2456 - val_acc: 0.7918\n",
            "Epoch 41/50\n",
            "20000/20000 [==============================] - 4s 189us/sample - loss: 0.0168 - acc: 0.9918 - val_loss: 2.3152 - val_acc: 0.7910\n",
            "Epoch 42/50\n",
            "20000/20000 [==============================] - 4s 190us/sample - loss: 0.0189 - acc: 0.9914 - val_loss: 2.2359 - val_acc: 0.7876\n",
            "Epoch 43/50\n",
            "20000/20000 [==============================] - 4s 189us/sample - loss: 0.0224 - acc: 0.9903 - val_loss: 2.4795 - val_acc: 0.7912\n",
            "Epoch 44/50\n",
            "20000/20000 [==============================] - 4s 188us/sample - loss: 0.0302 - acc: 0.9881 - val_loss: 2.2538 - val_acc: 0.7819\n",
            "Epoch 45/50\n",
            "20000/20000 [==============================] - 4s 189us/sample - loss: 0.0226 - acc: 0.9900 - val_loss: 2.3634 - val_acc: 0.7931\n",
            "Epoch 46/50\n",
            "20000/20000 [==============================] - 4s 190us/sample - loss: 0.0177 - acc: 0.9919 - val_loss: 2.4039 - val_acc: 0.7897\n",
            "Epoch 47/50\n",
            "20000/20000 [==============================] - 4s 186us/sample - loss: 0.0155 - acc: 0.9922 - val_loss: 2.5621 - val_acc: 0.7933\n",
            "Epoch 48/50\n",
            "20000/20000 [==============================] - 4s 189us/sample - loss: 0.0159 - acc: 0.9924 - val_loss: 2.5233 - val_acc: 0.7918\n",
            "Epoch 49/50\n",
            "20000/20000 [==============================] - 4s 189us/sample - loss: 0.0193 - acc: 0.9918 - val_loss: 2.5591 - val_acc: 0.7824\n",
            "Epoch 50/50\n",
            "20000/20000 [==============================] - 4s 190us/sample - loss: 0.0198 - acc: 0.9908 - val_loss: 2.5376 - val_acc: 0.7860\n"
          ],
          "name": "stdout"
        }
      ]
    },
    {
      "cell_type": "code",
      "metadata": {
        "id": "-zajwGGxwO-G",
        "colab_type": "code",
        "outputId": "20af95fb-345e-4d54-9a1c-1e6c86398079",
        "colab": {
          "base_uri": "https://localhost:8080/",
          "height": 542
        }
      },
      "source": [
        "import matplotlib.pyplot as plt\n",
        "\n",
        "\n",
        "def plot_graphs(history, string):\n",
        "  plt.plot(history.history[string])\n",
        "  plt.plot(history.history['val_'+string])\n",
        "  plt.xlabel(\"Epochs\")\n",
        "  plt.ylabel(string)\n",
        "  plt.legend([string, 'val_'+string])\n",
        "  plt.show()\n",
        "\n",
        "plot_graphs(history, 'acc')\n",
        "plot_graphs(history, 'loss')"
      ],
      "execution_count": 0,
      "outputs": [
        {
          "output_type": "display_data",
          "data": {
            "image/png": "[encoded data removed]",
            "text/plain": [
              "<Figure size 432x288 with 1 Axes>"
            ]
          },
          "metadata": {
            "tags": []
          }
        },
        {
          "output_type": "display_data",
          "data": {
            "image/png": "[encoded data removed]",
            "text/plain": [
              "<Figure size 432x288 with 1 Axes>"
            ]
          },
          "metadata": {
            "tags": []
          }
        }
      ]
    }
  ]
}